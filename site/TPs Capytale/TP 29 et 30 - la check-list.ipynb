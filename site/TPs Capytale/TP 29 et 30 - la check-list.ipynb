{
 "cells": [
  {
   "cell_type": "markdown",
   "metadata": {},
   "source": [
    "<h1 style=\"color: #11a1b3  \"> TP 29 et 30 - la check-list - <a href=\"https://capytale2.ac-paris.fr/web/b/1683377\">Source</a></h1>"
   ]
  },
  {
   "cell_type": "markdown",
   "metadata": {},
   "source": [
    "L'objectif de ces séances est de récapituler l'ensemble des savoir-faire de l'année."
   ]
  },
  {
   "cell_type": "markdown",
   "metadata": {},
   "source": [
    "<h3 style=\"color:  #34b6c6\"> 1 - les commandes prédéfinies </h4>"
   ]
  },
  {
   "cell_type": "markdown",
   "metadata": {},
   "source": [
    "<table>\n",
    "\n",
    "<tr> <th>Ecriture mathématique</th> <th> 𝜋 </th> <th> 𝑒 </th> <th> ln(5) </th> <th> 𝑒^3 </th> <th> √11 </th> <th> |−8| </th> <th> ⩽ </th> <th> ⩾ </th> <th> ⩾ </th> </tr> \n",
    "<tr> <th> Ecriture avec Python </th> <td>  </td> <td>  </td> <td>  </td> <td>  </td> <td>  </td> <td>  </td> <td>  </td> <td>  </td> <td>  </td> </tr>\n",
    "\n",
    "</table>"
   ]
  },
  {
   "cell_type": "code",
   "execution_count": 390,
   "metadata": {
    "trusted": false
   },
   "outputs": [
    {
     "name": "stdout",
     "output_type": "stream",
     "text": [
      "3.141592653589793 2.718281828459045 1.6094379124341003 20.085536923187668 3.3166247903554 8 <= >= !=\n"
     ]
    }
   ],
   "source": [
    "from math import pi, e, log, exp, sqrt\n",
    "print(pi, e, log(5), exp(3), sqrt(11), abs(-8), \"<=\", \">=\", \"!=\")"
   ]
  },
  {
   "cell_type": "markdown",
   "metadata": {},
   "source": [
    "<h3 style=\"color:  #34b6c6\"> 2 - afficher un résultat </h4>"
   ]
  },
  {
   "cell_type": "markdown",
   "metadata": {},
   "source": [
    "Si on écrit un programme dans l'éditeur et qu'on l'exécute, il est possible qu'il n'affiche rien (par exemple le calcul de $f(2)$ avec $f$ une fonction prédéfinie). Quelle commande permet l'affichage d'un résultat ?"
   ]
  },
  {
   "cell_type": "code",
   "execution_count": 391,
   "metadata": {
    "trusted": false
   },
   "outputs": [
    {
     "name": "stdout",
     "output_type": "stream",
     "text": [
      "64\n"
     ]
    }
   ],
   "source": [
    "def f(x):\n",
    "    return x**3\n",
    "print(f(4))"
   ]
  },
  {
   "cell_type": "code",
   "execution_count": 392,
   "metadata": {
    "trusted": false
   },
   "outputs": [],
   "source": [
    "# Il faut utiliser print, soit à l'intérieur de la formule, soit à l'extérieur de la formule, dans quel cas il faut return un résultat."
   ]
  },
  {
   "cell_type": "markdown",
   "metadata": {},
   "source": [
    "<h3 style=\"color:  #34b6c6\"> 3 - demander une information </h4>"
   ]
  },
  {
   "cell_type": "markdown",
   "metadata": {},
   "source": [
    "Ecrire un programme qui demande un entier à l'utilisateur et renvoie son carré."
   ]
  },
  {
   "cell_type": "code",
   "execution_count": 393,
   "metadata": {
    "trusted": false
   },
   "outputs": [
    {
     "name": "stdout",
     "output_type": "stream",
     "text": [
      "4\n"
     ]
    }
   ],
   "source": [
    "k = eval(input(\"Entier: \"))\n",
    "print(k**2)"
   ]
  },
  {
   "cell_type": "markdown",
   "metadata": {},
   "source": [
    "<h3 style=\"color:  #34b6c6\"> 4 - boucle for </h4>"
   ]
  },
  {
   "cell_type": "markdown",
   "metadata": {},
   "source": [
    "Ecrire un programme qui affiche le logarithme et la racine carrée des $10$ premiers entiers."
   ]
  },
  {
   "cell_type": "code",
   "execution_count": 394,
   "metadata": {
    "trusted": false
   },
   "outputs": [
    {
     "name": "stdout",
     "output_type": "stream",
     "text": [
      "log(1) = 0.0, racine carrée de 1 = 1.0\n",
      "log(2) = 0.6931471805599453, racine carrée de 2 = 1.4142135623730951\n",
      "log(3) = 1.0986122886681098, racine carrée de 3 = 1.7320508075688772\n",
      "log(4) = 1.3862943611198906, racine carrée de 4 = 2.0\n",
      "log(5) = 1.6094379124341003, racine carrée de 5 = 2.23606797749979\n",
      "log(6) = 1.791759469228055, racine carrée de 6 = 2.449489742783178\n",
      "log(7) = 1.9459101490553132, racine carrée de 7 = 2.6457513110645907\n",
      "log(8) = 2.0794415416798357, racine carrée de 8 = 2.8284271247461903\n",
      "log(9) = 2.1972245773362196, racine carrée de 9 = 3.0\n",
      "log(10) = 2.302585092994046, racine carrée de 10 = 3.1622776601683795\n"
     ]
    }
   ],
   "source": [
    "from math import log, sqrt\n",
    "for i in range(1,11):\n",
    "    print(f\"log({i}) = {log(i)}, racine carrée de {i} = {sqrt(i)}\")"
   ]
  },
  {
   "cell_type": "markdown",
   "metadata": {},
   "source": [
    "<h3 style=\"color:  #34b6c6\"> 5 - listes </h4>"
   ]
  },
  {
   "cell_type": "markdown",
   "metadata": {},
   "source": [
    "Définir deux listes qui affichent les mêmes résultats que le programme précédent, puis une troisième qui affiche le quotient des termes des deux listes deux à deux."
   ]
  },
  {
   "cell_type": "code",
   "execution_count": 396,
   "metadata": {
    "trusted": false
   },
   "outputs": [
    {
     "name": "stdout",
     "output_type": "stream",
     "text": [
      "[0.0, 0.6931471805599453, 1.0986122886681098, 1.3862943611198906, 1.6094379124341003, 1.791759469228055, 1.9459101490553132, 2.0794415416798357, 2.1972245773362196, 2.302585092994046]\n",
      "[1.0, 1.4142135623730951, 1.7320508075688772, 2.0, 2.23606797749979, 2.449489742783178, 2.6457513110645907, 2.8284271247461903, 3.0, 3.1622776601683795]\n",
      "[0.0, 0.49012907173427356, 0.634284100597564, 0.6931471805599453, 0.7197625155536004, 0.7314827402347921, 0.7354849040109982, 0.7351936076014103, 0.7324081924454066, 0.7281413400211801]\n",
      "[0.0, 0.49012907173427356, 0.634284100597564, 0.6931471805599453, 0.7197625155536004, 0.7314827402347921, 0.7354849040109982, 0.7351936076014103, 0.7324081924454066, 0.7281413400211801]\n"
     ]
    }
   ],
   "source": [
    "from math import log, sqrt\n",
    "l=[log(i) for i in range(1,11)]\n",
    "s=[sqrt(i) for i in range(1,11)]\n",
    "print(l)\n",
    "print(s)\n",
    "print([log(i)/sqrt(i) for i in range(1,11)])\n",
    "# OU\n",
    "print([l[i]/s[i] for i in range(0,10)])"
   ]
  },
  {
   "cell_type": "markdown",
   "metadata": {},
   "source": [
    "<h3 style=\"color:  #34b6c6\"> 6 - boucle while </h4>"
   ]
  },
  {
   "cell_type": "markdown",
   "metadata": {},
   "source": [
    "Ecrire un programme permettant de déterminer le premier entier\n",
    "$n$ tel que $e^{-\\sqrt{n}}\\leqslant 10^{-4}$"
   ]
  },
  {
   "cell_type": "code",
   "execution_count": 397,
   "metadata": {
    "trusted": false
   },
   "outputs": [
    {
     "name": "stdout",
     "output_type": "stream",
     "text": [
      "85\n"
     ]
    }
   ],
   "source": [
    "from math import exp, sqrt\n",
    "n=0\n",
    "while exp(-sqrt(n))>1/(10**4):\n",
    "    n+=1\n",
    "print(n)"
   ]
  },
  {
   "cell_type": "markdown",
   "metadata": {},
   "source": [
    "<h3 style=\"color:  #34b6c6\"> 7 - calcul et représentation d'une suite </h4>"
   ]
  },
  {
   "cell_type": "markdown",
   "metadata": {},
   "source": [
    "Calculer et représenter (avec des points) les $100$ premiers termes de la suite $u$ définie par :\n",
    "$$\\left\\lbrace\\begin{array}{c}\n",
    "u_1=1\\\\\n",
    "\\forall n\\in\\mathbb{N}^*, \\quad u_{n+1}=1-e^{-u_n}\\end{array}\\right.$$\n",
    "Faire une deuxième représentation à l'aide d'un diagramme en bâtons."
   ]
  },
  {
   "cell_type": "code",
   "execution_count": 398,
   "metadata": {
    "trusted": false
   },
   "outputs": [
    {
     "data": {
      "text/plain": [
       "<matplotlib.collections.PathCollection at 0x162434b1af0>"
      ]
     },
     "execution_count": 398,
     "metadata": {},
     "output_type": "execute_result"
    },
    {
     "data": {
      "image/png": "[encoded data removed]",
      "text/plain": [
       "<Figure size 640x480 with 1 Axes>"
      ]
     },
     "metadata": {},
     "output_type": "display_data"
    }
   ],
   "source": [
    "from math import exp\n",
    "import matplotlib.pyplot as plt\n",
    "u=[1]\n",
    "for i in range(0,99):\n",
    "    u.append(1-exp(-u[i]))\n",
    "plt.scatter([i for i in range(1,101)], u)\n"
   ]
  },
  {
   "cell_type": "code",
   "execution_count": 399,
   "metadata": {
    "trusted": false
   },
   "outputs": [
    {
     "data": {
      "text/plain": [
       "<BarContainer object of 100 artists>"
      ]
     },
     "execution_count": 399,
     "metadata": {},
     "output_type": "execute_result"
    },
    {
     "data": {
      "image/png": "[encoded data removed]",
      "text/plain": [
       "<Figure size 640x480 with 1 Axes>"
      ]
     },
     "metadata": {},
     "output_type": "display_data"
    }
   ],
   "source": [
    "from math import exp\n",
    "import matplotlib.pyplot as plt\n",
    "u=[1]\n",
    "for i in range(0,99):\n",
    "    u.append(1-exp(-u[i]))\n",
    "plt.bar([i for i in range(1,101)], u)"
   ]
  },
  {
   "cell_type": "markdown",
   "metadata": {},
   "source": [
    "<h3 style=\"color:  #34b6c6\"> 8 - définir une fonction </h4>"
   ]
  },
  {
   "cell_type": "markdown",
   "metadata": {},
   "source": [
    "Définir avec Python la fonction $f$, définie sur $\\mathbb{R_+^*}$ par : $f(x)=x\\ln(x)$"
   ]
  },
  {
   "cell_type": "code",
   "execution_count": 400,
   "metadata": {
    "trusted": false
   },
   "outputs": [],
   "source": [
    "from math import log\n",
    "def f(x): return x*log(x)"
   ]
  },
  {
   "cell_type": "markdown",
   "metadata": {},
   "source": [
    "<h3 style=\"color:  #34b6c6\"> 9 - utiliser une condition </h4>"
   ]
  },
  {
   "cell_type": "markdown",
   "metadata": {},
   "source": [
    "Modifier le programme précédent pour qu'il définisse la fonction $f$ définie sur $\\mathbb{R}$ par : $$\\forall x\\in\\mathbb{R}, \\quad f(x)=\\left\\lbrace\\begin{array}{c}\n",
    "x\\ln(x)\\quad {\\rm si}\\quad x>0\\\\\n",
    "x^2\\quad {\\rm si} \\quad x\\leqslant 0\\end{array}\\right.$$"
   ]
  },
  {
   "cell_type": "code",
   "execution_count": 401,
   "metadata": {
    "trusted": false
   },
   "outputs": [],
   "source": [
    "from math import log\n",
    "def f(x): return x*log(x) if x>0 else x**2"
   ]
  },
  {
   "cell_type": "markdown",
   "metadata": {},
   "source": [
    "<h3 style=\"color:  #34b6c6\"> 10 - représentation graphique </h4>"
   ]
  },
  {
   "cell_type": "markdown",
   "metadata": {},
   "source": [
    "Représenter la fonction précédente sur l'intervalle $[-10,10]$, émettre une hypothèse sur la continuité de la fonction.\n",
    "<br>\n",
    "<em> Python peut présenter une difficulté pour la représentation de ce type de fonction. Auquel cas, on construira plus progressivement la liste des ordonnées.</em>"
   ]
  },
  {
   "cell_type": "code",
   "execution_count": 402,
   "metadata": {
    "trusted": false
   },
   "outputs": [
    {
     "data": {
      "text/plain": [
       "[<matplotlib.lines.Line2D at 0x16244d1b830>]"
      ]
     },
     "execution_count": 402,
     "metadata": {},
     "output_type": "execute_result"
    },
    {
     "data": {
      "image/png": "[encoded data removed]",
      "text/plain": [
       "<Figure size 640x480 with 1 Axes>"
      ]
     },
     "metadata": {},
     "output_type": "display_data"
    }
   ],
   "source": [
    "from math import log\n",
    "from numpy import linspace\n",
    "import matplotlib.pyplot as plt\n",
    "def f(x): return x*log(x) if x>0 else x**2\n",
    "l=[f(x) for x in linspace(-10, 10, 999)]\n",
    "plt.plot(linspace(-10, 10, 999), l)"
   ]
  },
  {
   "attachments": {
    "image.png": {
     "image/png": "[encoded data removed]"
    }
   },
   "cell_type": "markdown",
   "metadata": {},
   "source": [
    "![image.png](attachment:image.png)"
   ]
  },
  {
   "cell_type": "code",
   "execution_count": 403,
   "metadata": {
    "trusted": false
   },
   "outputs": [],
   "source": [
    "# Cette fonction  ne semble pas continue"
   ]
  },
  {
   "cell_type": "markdown",
   "metadata": {},
   "source": [
    "<h3 style=\"color:  #34b6c6\"> 11 - trouver une valeur approchée à l'aide de la méthode de dichotomie </h4>"
   ]
  },
  {
   "cell_type": "markdown",
   "metadata": {},
   "source": [
    "Sachant que, pour $n\\in\\mathbb{N}^*$, l'équation $x^n+x-1=0$ admet une unique solution strictement positive notée $u_n$ et que $u_n\\in ]0, 1[$ pour tout $n\\in\\mathbb{N}^*$, compléter la fonction Python suivante renvoyant, pour $n$ donné en entrée, une valeur approchée $u_n$ à $10^{-3}$ près"
   ]
  },
  {
   "cell_type": "code",
   "execution_count": 404,
   "metadata": {
    "trusted": false
   },
   "outputs": [
    {
     "name": "stdout",
     "output_type": "stream",
     "text": [
      "[0.8935546875, 0.89453125]\n"
     ]
    }
   ],
   "source": [
    "# programme à compléter\n",
    "\n",
    "def valeur_approchee(n):\n",
    "    a=0\n",
    "    b=1\n",
    "    while abs(b-a)>1/10**3:\n",
    "        c=(a+b)/2\n",
    "        if (c**n+c-1)>0:\n",
    "            b=c\n",
    "        else:\n",
    "            a=c\n",
    "    return [a,b]\n",
    "print(valeur_approchee(20))"
   ]
  },
  {
   "cell_type": "code",
   "execution_count": 405,
   "metadata": {
    "trusted": false
   },
   "outputs": [
    {
     "name": "stdout",
     "output_type": "stream",
     "text": [
      "[0.8935546875, 0.89453125]\n"
     ]
    }
   ],
   "source": [
    "# Cette fonction ne fonctionne que si la fonction est strictement croissante.\n",
    "# Une fonction qui fonctionne pour toute fonction sitrctement monotone est:\n",
    "def valeur_approchee(n):\n",
    "    a=0\n",
    "    b=1\n",
    "    while abs(b-a)>1/10**3:\n",
    "        c=(a+b)/2\n",
    "        if (c**n+c-1)*(a**n+a-1)<0:\n",
    "            b=c\n",
    "        else:\n",
    "            a=c\n",
    "    return [a,b]\n",
    "print(valeur_approchee(20))"
   ]
  },
  {
   "cell_type": "markdown",
   "metadata": {},
   "source": [
    "<h3 style=\"color:  #34b6c6\"> 12 - définir et exploiter une matrice </h4>"
   ]
  },
  {
   "cell_type": "markdown",
   "metadata": {},
   "source": [
    "Avec Python définir la matrices $A=\\begin{pmatrix}\n",
    "0&1&1&0\\\\\n",
    "1&0&0&1\\\\\n",
    "1&0&0&0\\\\\n",
    "0&1&0&0\n",
    "\\end{pmatrix}$<br>\n",
    "Calculer $A^2$ et $I_4+A+A^2+A^3$ et interpréter les résultats."
   ]
  },
  {
   "cell_type": "code",
   "execution_count": 406,
   "metadata": {
    "trusted": false
   },
   "outputs": [
    {
     "name": "stdout",
     "output_type": "stream",
     "text": [
      "[[2 0 0 1]\n",
      " [0 2 1 0]\n",
      " [0 1 1 0]\n",
      " [1 0 0 1]]\n",
      "[[3. 4. 3. 1.]\n",
      " [4. 3. 1. 3.]\n",
      " [3. 1. 2. 1.]\n",
      " [1. 3. 1. 2.]]\n"
     ]
    }
   ],
   "source": [
    "import numpy as np\n",
    "from numpy.linalg import matrix_power\n",
    "M=np.array([[0,1,1,0],[1,0,0,1],[1,0,0,0],[0,1,0,0]])\n",
    "print(M@M)\n",
    "print(np.eye(4)+M+M@M+matrix_power(M,3)) # AU lieu de faire M@M@M, on peut utiliser la fonction matrix_power de numpy.linalg\n"
   ]
  },
  {
   "cell_type": "code",
   "execution_count": 407,
   "metadata": {
    "trusted": false
   },
   "outputs": [],
   "source": [
    "# Je n'ai encore pas fait les graphs en ECG, mais en utilisant mes cours de Maths Expertes en terminale et internet, j'en ai interprété:\n",
    "\n",
    "# A^2 : Chaque élément de A^2[i][j] représente le nombre de chemins de longueur 2 entre les sommets ii et jj dans un graphe dont la matrice d'adjacence est AA.\n",
    "# I_4+A+A^2+A^3 : Cette matrice donne le nombre total de chemins de longueur 0 (identité, I^4​), 1 (A), 2 (A^2), ou 3 (A^3) entre chaque paire de sommets.\n",
    "# En termes de graphes, c'est une somme des chemins jusqu'à une longueur maximale de 3."
   ]
  },
  {
   "cell_type": "markdown",
   "metadata": {},
   "source": [
    "<h3 style=\"color:  #34b6c6\"> 13 - générer un nombre aléatoire sur une plage donnée </h4>"
   ]
  },
  {
   "cell_type": "markdown",
   "metadata": {},
   "source": [
    "Ecrire une commande qui renvoie de manière aléatoire et équiprobable un nombre entier entre $1$ et $10$."
   ]
  },
  {
   "cell_type": "code",
   "execution_count": 408,
   "metadata": {
    "trusted": false
   },
   "outputs": [
    {
     "name": "stdout",
     "output_type": "stream",
     "text": [
      "7\n"
     ]
    }
   ],
   "source": [
    "from numpy import random\n",
    "print(random.randint(1,11))"
   ]
  },
  {
   "cell_type": "markdown",
   "metadata": {},
   "source": [
    "<h3 style=\"color:  #34b6c6\"> 14 - simuler une variable aléatoire suivant une loi de référence </h4>"
   ]
  },
  {
   "cell_type": "markdown",
   "metadata": {},
   "source": [
    "Deux joueurs s'affrontent dans un jeu de <em> pile </em> ou <em> face </em> avec une même pièce donnant <em> pile </em> avec une probabilité $p\\in ]0, 1[$ selon le protocole suivant: les deux joueurs lancent la pièce jusqu'à obtenir <em> pile </em>. Celui qui fait le moins de tirages gagne. Si les deux joueurs ont effectué le même nombre de lancers pour obtenir <em> pile </em>, ils recommencent, et ce jusqu'à ce qu'un des deux joueurs soit déclaré vainqueur.<br>\n",
    "Compléter la fonction Python ci-contre permettant de simuler le nombre de lancers nécessaires avant qu'un des deux joueurs ne soit déclaré vainqueur, avec une valeur de $p$ donnée en entrée."
   ]
  },
  {
   "cell_type": "code",
   "execution_count": 409,
   "metadata": {
    "trusted": false
   },
   "outputs": [
    {
     "name": "stdout",
     "output_type": "stream",
     "text": [
      "8\n"
     ]
    }
   ],
   "source": [
    "# programme à compléter\n",
    "import numpy.random as rd\n",
    "\n",
    "def simul(p):\n",
    "    x=rd.geometric(p)\n",
    "    y=rd.geometric(p)\n",
    "    while x==y:\n",
    "        x=rd.geometric(p)\n",
    "        y=rd.geometric(p)\n",
    "    N=min(x, y)\n",
    "    return N\n",
    "print(simul(0.2))"
   ]
  },
  {
   "cell_type": "code",
   "execution_count": 410,
   "metadata": {
    "trusted": false
   },
   "outputs": [],
   "source": [
    "# rd.geometric renvoie le nombre d'épreuves de Bernouilli nécéssaires afin d'obtenir pour la première fois un succès"
   ]
  }
 ],
 "metadata": {
  "kernelspec": {
   "display_name": "Python 3",
   "language": "python",
   "name": "python3"
  },
  "language_info": {
   "codemirror_mode": {
    "name": "ipython",
    "version": 3
   },
   "file_extension": ".py",
   "mimetype": "text/x-python",
   "name": "python",
   "nbconvert_exporter": "python",
   "pygments_lexer": "ipython3",
   "version": "3.12.7"
  }
 },
 "nbformat": 4,
 "nbformat_minor": 2
}
